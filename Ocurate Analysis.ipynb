{
 "cells": [
  {
   "cell_type": "code",
   "execution_count": 17,
   "id": "57c5f527",
   "metadata": {},
   "outputs": [],
   "source": [
    "#import needed libraries in\n",
    "\n",
    "import numpy as np\n",
    "import pandas as pd\n",
    "import math\n",
    "\n",
    "import matplotlib.pyplot as plt\n",
    "import seaborn as sns"
   ]
  },
  {
   "cell_type": "code",
   "execution_count": 3,
   "id": "77c63c99",
   "metadata": {},
   "outputs": [],
   "source": [
    "#read in transactions dataset, explore\n",
    "df = pd.read_csv('transactions.csv')"
   ]
  },
  {
   "cell_type": "code",
   "execution_count": 4,
   "id": "d96538ec",
   "metadata": {},
   "outputs": [
    {
     "data": {
      "text/html": [
       "<div>\n",
       "<style scoped>\n",
       "    .dataframe tbody tr th:only-of-type {\n",
       "        vertical-align: middle;\n",
       "    }\n",
       "\n",
       "    .dataframe tbody tr th {\n",
       "        vertical-align: top;\n",
       "    }\n",
       "\n",
       "    .dataframe thead th {\n",
       "        text-align: right;\n",
       "    }\n",
       "</style>\n",
       "<table border=\"1\" class=\"dataframe\">\n",
       "  <thead>\n",
       "    <tr style=\"text-align: right;\">\n",
       "      <th></th>\n",
       "      <th>Unnamed: 0</th>\n",
       "      <th>customer_id</th>\n",
       "      <th>transaction_value</th>\n",
       "      <th>transaction_days_after_joining</th>\n",
       "    </tr>\n",
       "  </thead>\n",
       "  <tbody>\n",
       "    <tr>\n",
       "      <th>0</th>\n",
       "      <td>0</td>\n",
       "      <td>0</td>\n",
       "      <td>5.0</td>\n",
       "      <td>1.0</td>\n",
       "    </tr>\n",
       "    <tr>\n",
       "      <th>1</th>\n",
       "      <td>1</td>\n",
       "      <td>0</td>\n",
       "      <td>2.0</td>\n",
       "      <td>16.0</td>\n",
       "    </tr>\n",
       "    <tr>\n",
       "      <th>2</th>\n",
       "      <td>2</td>\n",
       "      <td>0</td>\n",
       "      <td>10.0</td>\n",
       "      <td>31.0</td>\n",
       "    </tr>\n",
       "    <tr>\n",
       "      <th>3</th>\n",
       "      <td>3</td>\n",
       "      <td>0</td>\n",
       "      <td>8.0</td>\n",
       "      <td>46.0</td>\n",
       "    </tr>\n",
       "    <tr>\n",
       "      <th>4</th>\n",
       "      <td>4</td>\n",
       "      <td>0</td>\n",
       "      <td>9.0</td>\n",
       "      <td>61.0</td>\n",
       "    </tr>\n",
       "  </tbody>\n",
       "</table>\n",
       "</div>"
      ],
      "text/plain": [
       "   Unnamed: 0  customer_id  transaction_value  transaction_days_after_joining\n",
       "0           0            0                5.0                             1.0\n",
       "1           1            0                2.0                            16.0\n",
       "2           2            0               10.0                            31.0\n",
       "3           3            0                8.0                            46.0\n",
       "4           4            0                9.0                            61.0"
      ]
     },
     "execution_count": 4,
     "metadata": {},
     "output_type": "execute_result"
    }
   ],
   "source": [
    "df.head()"
   ]
  },
  {
   "cell_type": "code",
   "execution_count": 5,
   "id": "615dc3dc",
   "metadata": {},
   "outputs": [
    {
     "name": "stdout",
     "output_type": "stream",
     "text": [
      "<class 'pandas.core.frame.DataFrame'>\n",
      "RangeIndex: 999714 entries, 0 to 999713\n",
      "Data columns (total 4 columns):\n",
      " #   Column                          Non-Null Count   Dtype  \n",
      "---  ------                          --------------   -----  \n",
      " 0   Unnamed: 0                      999714 non-null  int64  \n",
      " 1   customer_id                     999714 non-null  int64  \n",
      " 2   transaction_value               999714 non-null  float64\n",
      " 3   transaction_days_after_joining  999714 non-null  float64\n",
      "dtypes: float64(2), int64(2)\n",
      "memory usage: 30.5 MB\n"
     ]
    }
   ],
   "source": [
    "df.info()"
   ]
  },
  {
   "cell_type": "code",
   "execution_count": 239,
   "id": "5ac7b0bf",
   "metadata": {},
   "outputs": [
    {
     "data": {
      "text/plain": [
       "0.0      120896\n",
       "1.0       63597\n",
       "2.0       51258\n",
       "3.0       43944\n",
       "4.0       38668\n",
       "          ...  \n",
       "325.0         1\n",
       "319.0         1\n",
       "299.0         1\n",
       "359.0         1\n",
       "294.0         1\n",
       "Name: transaction_value, Length: 346, dtype: int64"
      ]
     },
     "execution_count": 239,
     "metadata": {},
     "output_type": "execute_result"
    }
   ],
   "source": [
    "df['transaction_value'].value_counts()"
   ]
  },
  {
   "cell_type": "code",
   "execution_count": 247,
   "id": "651888a0",
   "metadata": {},
   "outputs": [],
   "source": [
    "#Create a new column that groups and sums up \"transaction days after joining\" into monthly segments.\n",
    "#This is to capture the monthly signal of customer's purchase behaviour and to attempt to predict that signal\n",
    "\n",
    "df['month'] = df['transaction_days_after_joining'].apply(lambda x: math.ceil((x/30)))\n",
    "df_t = df.drop(['Unnamed: 0', 'transaction_days_after_joining'], axis = 1)\n",
    "df_t = df_t.groupby(['customer_id','month']).sum()"
   ]
  },
  {
   "cell_type": "code",
   "execution_count": 248,
   "id": "9c82f0a0",
   "metadata": {},
   "outputs": [
    {
     "data": {
      "text/html": [
       "<div>\n",
       "<style scoped>\n",
       "    .dataframe tbody tr th:only-of-type {\n",
       "        vertical-align: middle;\n",
       "    }\n",
       "\n",
       "    .dataframe tbody tr th {\n",
       "        vertical-align: top;\n",
       "    }\n",
       "\n",
       "    .dataframe thead th {\n",
       "        text-align: right;\n",
       "    }\n",
       "</style>\n",
       "<table border=\"1\" class=\"dataframe\">\n",
       "  <thead>\n",
       "    <tr style=\"text-align: right;\">\n",
       "      <th></th>\n",
       "      <th></th>\n",
       "      <th>transaction_value</th>\n",
       "    </tr>\n",
       "    <tr>\n",
       "      <th>customer_id</th>\n",
       "      <th>month</th>\n",
       "      <th></th>\n",
       "    </tr>\n",
       "  </thead>\n",
       "  <tbody>\n",
       "    <tr>\n",
       "      <th rowspan=\"5\" valign=\"top\">0</th>\n",
       "      <th>1</th>\n",
       "      <td>7.0</td>\n",
       "    </tr>\n",
       "    <tr>\n",
       "      <th>2</th>\n",
       "      <td>18.0</td>\n",
       "    </tr>\n",
       "    <tr>\n",
       "      <th>3</th>\n",
       "      <td>28.0</td>\n",
       "    </tr>\n",
       "    <tr>\n",
       "      <th>4</th>\n",
       "      <td>46.0</td>\n",
       "    </tr>\n",
       "    <tr>\n",
       "      <th>5</th>\n",
       "      <td>15.0</td>\n",
       "    </tr>\n",
       "    <tr>\n",
       "      <th>...</th>\n",
       "      <th>...</th>\n",
       "      <td>...</td>\n",
       "    </tr>\n",
       "    <tr>\n",
       "      <th rowspan=\"4\" valign=\"top\">99998</th>\n",
       "      <th>21</th>\n",
       "      <td>0.0</td>\n",
       "    </tr>\n",
       "    <tr>\n",
       "      <th>24</th>\n",
       "      <td>0.0</td>\n",
       "    </tr>\n",
       "    <tr>\n",
       "      <th>25</th>\n",
       "      <td>8.0</td>\n",
       "    </tr>\n",
       "    <tr>\n",
       "      <th>26</th>\n",
       "      <td>7.0</td>\n",
       "    </tr>\n",
       "    <tr>\n",
       "      <th>99999</th>\n",
       "      <th>1</th>\n",
       "      <td>49.0</td>\n",
       "    </tr>\n",
       "  </tbody>\n",
       "</table>\n",
       "<p>553076 rows × 1 columns</p>\n",
       "</div>"
      ],
      "text/plain": [
       "                   transaction_value\n",
       "customer_id month                   \n",
       "0           1                    7.0\n",
       "            2                   18.0\n",
       "            3                   28.0\n",
       "            4                   46.0\n",
       "            5                   15.0\n",
       "...                              ...\n",
       "99998       21                   0.0\n",
       "            24                   0.0\n",
       "            25                   8.0\n",
       "            26                   7.0\n",
       "99999       1                   49.0\n",
       "\n",
       "[553076 rows x 1 columns]"
      ]
     },
     "execution_count": 248,
     "metadata": {},
     "output_type": "execute_result"
    }
   ],
   "source": [
    "df_t"
   ]
  },
  {
   "cell_type": "code",
   "execution_count": 252,
   "id": "e3dcb4a9",
   "metadata": {},
   "outputs": [
    {
     "data": {
      "text/html": [
       "<div>\n",
       "<style scoped>\n",
       "    .dataframe tbody tr th:only-of-type {\n",
       "        vertical-align: middle;\n",
       "    }\n",
       "\n",
       "    .dataframe tbody tr th {\n",
       "        vertical-align: top;\n",
       "    }\n",
       "\n",
       "    .dataframe thead th {\n",
       "        text-align: right;\n",
       "    }\n",
       "</style>\n",
       "<table border=\"1\" class=\"dataframe\">\n",
       "  <thead>\n",
       "    <tr style=\"text-align: right;\">\n",
       "      <th></th>\n",
       "      <th></th>\n",
       "      <th>transaction_value</th>\n",
       "    </tr>\n",
       "    <tr>\n",
       "      <th>customer_id</th>\n",
       "      <th>month</th>\n",
       "      <th></th>\n",
       "    </tr>\n",
       "  </thead>\n",
       "  <tbody>\n",
       "    <tr>\n",
       "      <th rowspan=\"5\" valign=\"top\">0</th>\n",
       "      <th>1</th>\n",
       "      <td>7.0</td>\n",
       "    </tr>\n",
       "    <tr>\n",
       "      <th>2</th>\n",
       "      <td>18.0</td>\n",
       "    </tr>\n",
       "    <tr>\n",
       "      <th>3</th>\n",
       "      <td>28.0</td>\n",
       "    </tr>\n",
       "    <tr>\n",
       "      <th>4</th>\n",
       "      <td>46.0</td>\n",
       "    </tr>\n",
       "    <tr>\n",
       "      <th>5</th>\n",
       "      <td>15.0</td>\n",
       "    </tr>\n",
       "    <tr>\n",
       "      <th>...</th>\n",
       "      <th>...</th>\n",
       "      <td>...</td>\n",
       "    </tr>\n",
       "    <tr>\n",
       "      <th rowspan=\"4\" valign=\"top\">99998</th>\n",
       "      <th>21</th>\n",
       "      <td>0.0</td>\n",
       "    </tr>\n",
       "    <tr>\n",
       "      <th>24</th>\n",
       "      <td>0.0</td>\n",
       "    </tr>\n",
       "    <tr>\n",
       "      <th>25</th>\n",
       "      <td>8.0</td>\n",
       "    </tr>\n",
       "    <tr>\n",
       "      <th>26</th>\n",
       "      <td>7.0</td>\n",
       "    </tr>\n",
       "    <tr>\n",
       "      <th>99999</th>\n",
       "      <th>1</th>\n",
       "      <td>49.0</td>\n",
       "    </tr>\n",
       "  </tbody>\n",
       "</table>\n",
       "<p>553076 rows × 1 columns</p>\n",
       "</div>"
      ],
      "text/plain": [
       "                   transaction_value\n",
       "customer_id month                   \n",
       "0           1                    7.0\n",
       "            2                   18.0\n",
       "            3                   28.0\n",
       "            4                   46.0\n",
       "            5                   15.0\n",
       "...                              ...\n",
       "99998       21                   0.0\n",
       "            24                   0.0\n",
       "            25                   8.0\n",
       "            26                   7.0\n",
       "99999       1                   49.0\n",
       "\n",
       "[553076 rows x 1 columns]"
      ]
     },
     "execution_count": 252,
     "metadata": {},
     "output_type": "execute_result"
    }
   ],
   "source": [
    "df_t"
   ]
  },
  {
   "cell_type": "code",
   "execution_count": 251,
   "id": "fc72f28e",
   "metadata": {},
   "outputs": [
    {
     "ename": "TypeError",
     "evalue": "'tuple' object cannot be interpreted as an integer",
     "output_type": "error",
     "traceback": [
      "\u001b[0;31m---------------------------------------------------------------------------\u001b[0m",
      "\u001b[0;31mTypeError\u001b[0m                                 Traceback (most recent call last)",
      "\u001b[0;32m<ipython-input-251-a2871ba8b28a>\u001b[0m in \u001b[0;36m<module>\u001b[0;34m\u001b[0m\n\u001b[0;32m----> 1\u001b[0;31m \u001b[0mdf_t\u001b[0m\u001b[0;34m.\u001b[0m\u001b[0mreindex\u001b[0m\u001b[0;34m(\u001b[0m\u001b[0mlist\u001b[0m\u001b[0;34m(\u001b[0m\u001b[0mrange\u001b[0m\u001b[0;34m(\u001b[0m\u001b[0mdf_t\u001b[0m\u001b[0;34m.\u001b[0m\u001b[0mindex\u001b[0m\u001b[0;34m.\u001b[0m\u001b[0mmin\u001b[0m\u001b[0;34m(\u001b[0m\u001b[0;34m)\u001b[0m\u001b[0;34m,\u001b[0m\u001b[0mdf_t\u001b[0m\u001b[0;34m.\u001b[0m\u001b[0mindex\u001b[0m\u001b[0;34m.\u001b[0m\u001b[0mmax\u001b[0m\u001b[0;34m(\u001b[0m\u001b[0;34m)\u001b[0m\u001b[0;34m)\u001b[0m\u001b[0;34m)\u001b[0m\u001b[0;34m,\u001b[0m \u001b[0mindex\u001b[0m \u001b[0;34m=\u001b[0m \u001b[0;34m'month'\u001b[0m\u001b[0;34m,\u001b[0m \u001b[0mfill_value\u001b[0m\u001b[0;34m=\u001b[0m\u001b[0;36m0\u001b[0m\u001b[0;34m)\u001b[0m\u001b[0;34m\u001b[0m\u001b[0;34m\u001b[0m\u001b[0m\n\u001b[0m",
      "\u001b[0;31mTypeError\u001b[0m: 'tuple' object cannot be interpreted as an integer"
     ]
    }
   ],
   "source": [
    "#df_y = df_t.reindex(labels = df_t.index.unique(level = 'month'), axis = 0, level = 1, fill_value=0)\n",
    "\n",
    "unique_customers = df_t.index.unique(level='customer_id')\n",
    "\n",
    "month_range = df_t.index.unique(level = 'month')\n",
    "\n",
    "customer_date_index = pd.MultiIndex.from_product(iterables=[unique_customers, month_range], names=['customer_id', 'month'])\n",
    "\n",
    "df_t = df_t.reindex(customer_date_index, fill_value=0)"
   ]
  },
  {
   "cell_type": "code",
   "execution_count": 240,
   "id": "c9f06de6",
   "metadata": {},
   "outputs": [],
   "source": [
    "df_t.reset_index(inplace = True)"
   ]
  },
  {
   "cell_type": "code",
   "execution_count": 36,
   "id": "7ae434c4",
   "metadata": {},
   "outputs": [
    {
     "data": {
      "text/html": [
       "<div>\n",
       "<style scoped>\n",
       "    .dataframe tbody tr th:only-of-type {\n",
       "        vertical-align: middle;\n",
       "    }\n",
       "\n",
       "    .dataframe tbody tr th {\n",
       "        vertical-align: top;\n",
       "    }\n",
       "\n",
       "    .dataframe thead th {\n",
       "        text-align: right;\n",
       "    }\n",
       "</style>\n",
       "<table border=\"1\" class=\"dataframe\">\n",
       "  <thead>\n",
       "    <tr style=\"text-align: right;\">\n",
       "      <th></th>\n",
       "      <th>customer_id</th>\n",
       "      <th>month</th>\n",
       "      <th>transaction_value</th>\n",
       "    </tr>\n",
       "  </thead>\n",
       "  <tbody>\n",
       "    <tr>\n",
       "      <th>0</th>\n",
       "      <td>0</td>\n",
       "      <td>1</td>\n",
       "      <td>7.0</td>\n",
       "    </tr>\n",
       "    <tr>\n",
       "      <th>1</th>\n",
       "      <td>0</td>\n",
       "      <td>2</td>\n",
       "      <td>18.0</td>\n",
       "    </tr>\n",
       "    <tr>\n",
       "      <th>2</th>\n",
       "      <td>0</td>\n",
       "      <td>3</td>\n",
       "      <td>28.0</td>\n",
       "    </tr>\n",
       "    <tr>\n",
       "      <th>3</th>\n",
       "      <td>0</td>\n",
       "      <td>4</td>\n",
       "      <td>46.0</td>\n",
       "    </tr>\n",
       "    <tr>\n",
       "      <th>4</th>\n",
       "      <td>0</td>\n",
       "      <td>5</td>\n",
       "      <td>15.0</td>\n",
       "    </tr>\n",
       "  </tbody>\n",
       "</table>\n",
       "</div>"
      ],
      "text/plain": [
       "   customer_id  month  transaction_value\n",
       "0            0      1                7.0\n",
       "1            0      2               18.0\n",
       "2            0      3               28.0\n",
       "3            0      4               46.0\n",
       "4            0      5               15.0"
      ]
     },
     "execution_count": 36,
     "metadata": {},
     "output_type": "execute_result"
    }
   ],
   "source": [
    "df_t.head()"
   ]
  },
  {
   "cell_type": "code",
   "execution_count": null,
   "id": "f8c5578d",
   "metadata": {},
   "outputs": [],
   "source": []
  },
  {
   "cell_type": "code",
   "execution_count": 181,
   "id": "f625418f",
   "metadata": {},
   "outputs": [],
   "source": [
    "df_c = pd.read_csv('customers.csv')"
   ]
  },
  {
   "cell_type": "code",
   "execution_count": 7,
   "id": "a0a5451b",
   "metadata": {},
   "outputs": [
    {
     "data": {
      "text/html": [
       "<div>\n",
       "<style scoped>\n",
       "    .dataframe tbody tr th:only-of-type {\n",
       "        vertical-align: middle;\n",
       "    }\n",
       "\n",
       "    .dataframe tbody tr th {\n",
       "        vertical-align: top;\n",
       "    }\n",
       "\n",
       "    .dataframe thead th {\n",
       "        text-align: right;\n",
       "    }\n",
       "</style>\n",
       "<table border=\"1\" class=\"dataframe\">\n",
       "  <thead>\n",
       "    <tr style=\"text-align: right;\">\n",
       "      <th></th>\n",
       "      <th>Unnamed: 0</th>\n",
       "      <th>customer_id</th>\n",
       "      <th>state</th>\n",
       "      <th>age</th>\n",
       "      <th>gender</th>\n",
       "      <th>income</th>\n",
       "      <th>is_married</th>\n",
       "      <th>promo_group_1</th>\n",
       "      <th>promo_group_2</th>\n",
       "      <th>customer_loyalty_index</th>\n",
       "      <th>brand_awareness_index</th>\n",
       "    </tr>\n",
       "  </thead>\n",
       "  <tbody>\n",
       "    <tr>\n",
       "      <th>0</th>\n",
       "      <td>0</td>\n",
       "      <td>0</td>\n",
       "      <td>NJ</td>\n",
       "      <td>64</td>\n",
       "      <td>Female</td>\n",
       "      <td>65000.0</td>\n",
       "      <td>Y</td>\n",
       "      <td>A</td>\n",
       "      <td>X</td>\n",
       "      <td>0.058849</td>\n",
       "      <td>1.969644e-01</td>\n",
       "    </tr>\n",
       "    <tr>\n",
       "      <th>1</th>\n",
       "      <td>1</td>\n",
       "      <td>1</td>\n",
       "      <td>NY</td>\n",
       "      <td>26</td>\n",
       "      <td>Female</td>\n",
       "      <td>43000.0</td>\n",
       "      <td>Y</td>\n",
       "      <td>A</td>\n",
       "      <td>Z</td>\n",
       "      <td>-4.872865</td>\n",
       "      <td>2.970386e-14</td>\n",
       "    </tr>\n",
       "    <tr>\n",
       "      <th>2</th>\n",
       "      <td>2</td>\n",
       "      <td>2</td>\n",
       "      <td>NH</td>\n",
       "      <td>55</td>\n",
       "      <td>Female</td>\n",
       "      <td>93000.0</td>\n",
       "      <td>Y</td>\n",
       "      <td>C</td>\n",
       "      <td>X</td>\n",
       "      <td>NaN</td>\n",
       "      <td>NaN</td>\n",
       "    </tr>\n",
       "    <tr>\n",
       "      <th>3</th>\n",
       "      <td>3</td>\n",
       "      <td>3</td>\n",
       "      <td>ME</td>\n",
       "      <td>18</td>\n",
       "      <td>Female</td>\n",
       "      <td>68000.0</td>\n",
       "      <td>N</td>\n",
       "      <td>B</td>\n",
       "      <td>Z</td>\n",
       "      <td>0.152339</td>\n",
       "      <td>2.341961e-03</td>\n",
       "    </tr>\n",
       "    <tr>\n",
       "      <th>4</th>\n",
       "      <td>4</td>\n",
       "      <td>4</td>\n",
       "      <td>CA</td>\n",
       "      <td>41</td>\n",
       "      <td>Female</td>\n",
       "      <td>25000.0</td>\n",
       "      <td>N</td>\n",
       "      <td>A</td>\n",
       "      <td>Y</td>\n",
       "      <td>0.732875</td>\n",
       "      <td>8.073341e-14</td>\n",
       "    </tr>\n",
       "  </tbody>\n",
       "</table>\n",
       "</div>"
      ],
      "text/plain": [
       "   Unnamed: 0  customer_id state  age  gender   income is_married  \\\n",
       "0           0            0    NJ   64  Female  65000.0          Y   \n",
       "1           1            1    NY   26  Female  43000.0          Y   \n",
       "2           2            2    NH   55  Female  93000.0          Y   \n",
       "3           3            3    ME   18  Female  68000.0          N   \n",
       "4           4            4    CA   41  Female  25000.0          N   \n",
       "\n",
       "  promo_group_1 promo_group_2  customer_loyalty_index  brand_awareness_index  \n",
       "0             A             X                0.058849           1.969644e-01  \n",
       "1             A             Z               -4.872865           2.970386e-14  \n",
       "2             C             X                     NaN                    NaN  \n",
       "3             B             Z                0.152339           2.341961e-03  \n",
       "4             A             Y                0.732875           8.073341e-14  "
      ]
     },
     "execution_count": 7,
     "metadata": {},
     "output_type": "execute_result"
    }
   ],
   "source": [
    "df_c.head()"
   ]
  },
  {
   "cell_type": "code",
   "execution_count": 8,
   "id": "4675d2c9",
   "metadata": {},
   "outputs": [
    {
     "name": "stdout",
     "output_type": "stream",
     "text": [
      "<class 'pandas.core.frame.DataFrame'>\n",
      "RangeIndex: 100000 entries, 0 to 99999\n",
      "Data columns (total 11 columns):\n",
      " #   Column                  Non-Null Count   Dtype  \n",
      "---  ------                  --------------   -----  \n",
      " 0   Unnamed: 0              100000 non-null  int64  \n",
      " 1   customer_id             100000 non-null  int64  \n",
      " 2   state                   85105 non-null   object \n",
      " 3   age                     100000 non-null  int64  \n",
      " 4   gender                  100000 non-null  object \n",
      " 5   income                  85105 non-null   float64\n",
      " 6   is_married              100000 non-null  object \n",
      " 7   promo_group_1           100000 non-null  object \n",
      " 8   promo_group_2           100000 non-null  object \n",
      " 9   customer_loyalty_index  85146 non-null   float64\n",
      " 10  brand_awareness_index   85146 non-null   float64\n",
      "dtypes: float64(3), int64(3), object(5)\n",
      "memory usage: 8.4+ MB\n"
     ]
    }
   ],
   "source": [
    "df_c.info()"
   ]
  },
  {
   "cell_type": "code",
   "execution_count": 182,
   "id": "86a99244",
   "metadata": {},
   "outputs": [],
   "source": [
    "df_c.drop('Unnamed: 0', axis = 1, inplace = True)\n",
    "df_join = df_t.join(df_c, on = 'customer_id', how = 'left', lsuffix = '_t')"
   ]
  },
  {
   "cell_type": "code",
   "execution_count": 183,
   "id": "673fda8c",
   "metadata": {},
   "outputs": [
    {
     "data": {
      "text/html": [
       "<div>\n",
       "<style scoped>\n",
       "    .dataframe tbody tr th:only-of-type {\n",
       "        vertical-align: middle;\n",
       "    }\n",
       "\n",
       "    .dataframe tbody tr th {\n",
       "        vertical-align: top;\n",
       "    }\n",
       "\n",
       "    .dataframe thead th {\n",
       "        text-align: right;\n",
       "    }\n",
       "</style>\n",
       "<table border=\"1\" class=\"dataframe\">\n",
       "  <thead>\n",
       "    <tr style=\"text-align: right;\">\n",
       "      <th></th>\n",
       "      <th>customer_id_t</th>\n",
       "      <th>month</th>\n",
       "      <th>transaction_value</th>\n",
       "      <th>customer_id</th>\n",
       "      <th>state</th>\n",
       "      <th>age</th>\n",
       "      <th>gender</th>\n",
       "      <th>income</th>\n",
       "      <th>is_married</th>\n",
       "      <th>promo_group_1</th>\n",
       "      <th>promo_group_2</th>\n",
       "      <th>customer_loyalty_index</th>\n",
       "      <th>brand_awareness_index</th>\n",
       "    </tr>\n",
       "  </thead>\n",
       "  <tbody>\n",
       "    <tr>\n",
       "      <th>0</th>\n",
       "      <td>0</td>\n",
       "      <td>1</td>\n",
       "      <td>7.0</td>\n",
       "      <td>0</td>\n",
       "      <td>NJ</td>\n",
       "      <td>64</td>\n",
       "      <td>Female</td>\n",
       "      <td>65000.0</td>\n",
       "      <td>Y</td>\n",
       "      <td>A</td>\n",
       "      <td>X</td>\n",
       "      <td>0.058849</td>\n",
       "      <td>0.196964</td>\n",
       "    </tr>\n",
       "    <tr>\n",
       "      <th>1</th>\n",
       "      <td>0</td>\n",
       "      <td>2</td>\n",
       "      <td>18.0</td>\n",
       "      <td>0</td>\n",
       "      <td>NJ</td>\n",
       "      <td>64</td>\n",
       "      <td>Female</td>\n",
       "      <td>65000.0</td>\n",
       "      <td>Y</td>\n",
       "      <td>A</td>\n",
       "      <td>X</td>\n",
       "      <td>0.058849</td>\n",
       "      <td>0.196964</td>\n",
       "    </tr>\n",
       "    <tr>\n",
       "      <th>2</th>\n",
       "      <td>0</td>\n",
       "      <td>3</td>\n",
       "      <td>28.0</td>\n",
       "      <td>0</td>\n",
       "      <td>NJ</td>\n",
       "      <td>64</td>\n",
       "      <td>Female</td>\n",
       "      <td>65000.0</td>\n",
       "      <td>Y</td>\n",
       "      <td>A</td>\n",
       "      <td>X</td>\n",
       "      <td>0.058849</td>\n",
       "      <td>0.196964</td>\n",
       "    </tr>\n",
       "    <tr>\n",
       "      <th>3</th>\n",
       "      <td>0</td>\n",
       "      <td>4</td>\n",
       "      <td>46.0</td>\n",
       "      <td>0</td>\n",
       "      <td>NJ</td>\n",
       "      <td>64</td>\n",
       "      <td>Female</td>\n",
       "      <td>65000.0</td>\n",
       "      <td>Y</td>\n",
       "      <td>A</td>\n",
       "      <td>X</td>\n",
       "      <td>0.058849</td>\n",
       "      <td>0.196964</td>\n",
       "    </tr>\n",
       "    <tr>\n",
       "      <th>4</th>\n",
       "      <td>0</td>\n",
       "      <td>5</td>\n",
       "      <td>15.0</td>\n",
       "      <td>0</td>\n",
       "      <td>NJ</td>\n",
       "      <td>64</td>\n",
       "      <td>Female</td>\n",
       "      <td>65000.0</td>\n",
       "      <td>Y</td>\n",
       "      <td>A</td>\n",
       "      <td>X</td>\n",
       "      <td>0.058849</td>\n",
       "      <td>0.196964</td>\n",
       "    </tr>\n",
       "  </tbody>\n",
       "</table>\n",
       "</div>"
      ],
      "text/plain": [
       "   customer_id_t  month  transaction_value  customer_id state  age  gender  \\\n",
       "0              0      1                7.0            0    NJ   64  Female   \n",
       "1              0      2               18.0            0    NJ   64  Female   \n",
       "2              0      3               28.0            0    NJ   64  Female   \n",
       "3              0      4               46.0            0    NJ   64  Female   \n",
       "4              0      5               15.0            0    NJ   64  Female   \n",
       "\n",
       "    income is_married promo_group_1 promo_group_2  customer_loyalty_index  \\\n",
       "0  65000.0          Y             A             X                0.058849   \n",
       "1  65000.0          Y             A             X                0.058849   \n",
       "2  65000.0          Y             A             X                0.058849   \n",
       "3  65000.0          Y             A             X                0.058849   \n",
       "4  65000.0          Y             A             X                0.058849   \n",
       "\n",
       "   brand_awareness_index  \n",
       "0               0.196964  \n",
       "1               0.196964  \n",
       "2               0.196964  \n",
       "3               0.196964  \n",
       "4               0.196964  "
      ]
     },
     "execution_count": 183,
     "metadata": {},
     "output_type": "execute_result"
    }
   ],
   "source": [
    "df_join.head()"
   ]
  },
  {
   "cell_type": "code",
   "execution_count": 184,
   "id": "2a9a2c6e",
   "metadata": {},
   "outputs": [],
   "source": [
    "df_join.drop(['customer_id'], axis =1, inplace = True)"
   ]
  },
  {
   "cell_type": "code",
   "execution_count": 45,
   "id": "6224c79d",
   "metadata": {},
   "outputs": [
    {
     "data": {
      "text/html": [
       "<div>\n",
       "<style scoped>\n",
       "    .dataframe tbody tr th:only-of-type {\n",
       "        vertical-align: middle;\n",
       "    }\n",
       "\n",
       "    .dataframe tbody tr th {\n",
       "        vertical-align: top;\n",
       "    }\n",
       "\n",
       "    .dataframe thead th {\n",
       "        text-align: right;\n",
       "    }\n",
       "</style>\n",
       "<table border=\"1\" class=\"dataframe\">\n",
       "  <thead>\n",
       "    <tr style=\"text-align: right;\">\n",
       "      <th></th>\n",
       "      <th>customer_id_t</th>\n",
       "      <th>month</th>\n",
       "      <th>transaction_value</th>\n",
       "      <th>state</th>\n",
       "      <th>age</th>\n",
       "      <th>gender</th>\n",
       "      <th>income</th>\n",
       "      <th>is_married</th>\n",
       "      <th>promo_group_1</th>\n",
       "      <th>promo_group_2</th>\n",
       "      <th>customer_loyalty_index</th>\n",
       "      <th>brand_awareness_index</th>\n",
       "    </tr>\n",
       "  </thead>\n",
       "  <tbody>\n",
       "    <tr>\n",
       "      <th>0</th>\n",
       "      <td>0</td>\n",
       "      <td>1</td>\n",
       "      <td>7.0</td>\n",
       "      <td>NJ</td>\n",
       "      <td>64</td>\n",
       "      <td>Female</td>\n",
       "      <td>65000.0</td>\n",
       "      <td>Y</td>\n",
       "      <td>A</td>\n",
       "      <td>X</td>\n",
       "      <td>0.058849</td>\n",
       "      <td>0.196964</td>\n",
       "    </tr>\n",
       "    <tr>\n",
       "      <th>1</th>\n",
       "      <td>0</td>\n",
       "      <td>2</td>\n",
       "      <td>18.0</td>\n",
       "      <td>NJ</td>\n",
       "      <td>64</td>\n",
       "      <td>Female</td>\n",
       "      <td>65000.0</td>\n",
       "      <td>Y</td>\n",
       "      <td>A</td>\n",
       "      <td>X</td>\n",
       "      <td>0.058849</td>\n",
       "      <td>0.196964</td>\n",
       "    </tr>\n",
       "    <tr>\n",
       "      <th>2</th>\n",
       "      <td>0</td>\n",
       "      <td>3</td>\n",
       "      <td>28.0</td>\n",
       "      <td>NJ</td>\n",
       "      <td>64</td>\n",
       "      <td>Female</td>\n",
       "      <td>65000.0</td>\n",
       "      <td>Y</td>\n",
       "      <td>A</td>\n",
       "      <td>X</td>\n",
       "      <td>0.058849</td>\n",
       "      <td>0.196964</td>\n",
       "    </tr>\n",
       "    <tr>\n",
       "      <th>3</th>\n",
       "      <td>0</td>\n",
       "      <td>4</td>\n",
       "      <td>46.0</td>\n",
       "      <td>NJ</td>\n",
       "      <td>64</td>\n",
       "      <td>Female</td>\n",
       "      <td>65000.0</td>\n",
       "      <td>Y</td>\n",
       "      <td>A</td>\n",
       "      <td>X</td>\n",
       "      <td>0.058849</td>\n",
       "      <td>0.196964</td>\n",
       "    </tr>\n",
       "    <tr>\n",
       "      <th>4</th>\n",
       "      <td>0</td>\n",
       "      <td>5</td>\n",
       "      <td>15.0</td>\n",
       "      <td>NJ</td>\n",
       "      <td>64</td>\n",
       "      <td>Female</td>\n",
       "      <td>65000.0</td>\n",
       "      <td>Y</td>\n",
       "      <td>A</td>\n",
       "      <td>X</td>\n",
       "      <td>0.058849</td>\n",
       "      <td>0.196964</td>\n",
       "    </tr>\n",
       "  </tbody>\n",
       "</table>\n",
       "</div>"
      ],
      "text/plain": [
       "   customer_id_t  month  transaction_value state  age  gender   income  \\\n",
       "0              0      1                7.0    NJ   64  Female  65000.0   \n",
       "1              0      2               18.0    NJ   64  Female  65000.0   \n",
       "2              0      3               28.0    NJ   64  Female  65000.0   \n",
       "3              0      4               46.0    NJ   64  Female  65000.0   \n",
       "4              0      5               15.0    NJ   64  Female  65000.0   \n",
       "\n",
       "  is_married promo_group_1 promo_group_2  customer_loyalty_index  \\\n",
       "0          Y             A             X                0.058849   \n",
       "1          Y             A             X                0.058849   \n",
       "2          Y             A             X                0.058849   \n",
       "3          Y             A             X                0.058849   \n",
       "4          Y             A             X                0.058849   \n",
       "\n",
       "   brand_awareness_index  \n",
       "0               0.196964  \n",
       "1               0.196964  \n",
       "2               0.196964  \n",
       "3               0.196964  \n",
       "4               0.196964  "
      ]
     },
     "execution_count": 45,
     "metadata": {},
     "output_type": "execute_result"
    }
   ],
   "source": [
    "df_join.head()"
   ]
  },
  {
   "cell_type": "code",
   "execution_count": 152,
   "id": "82778f99",
   "metadata": {},
   "outputs": [
    {
     "data": {
      "text/plain": [
       "Y    185486\n",
       "Z    184442\n",
       "X    183148\n",
       "Name: promo_group_2, dtype: int64"
      ]
     },
     "execution_count": 152,
     "metadata": {},
     "output_type": "execute_result"
    }
   ],
   "source": [
    "df_join['promo_group_2'].value_counts()"
   ]
  },
  {
   "cell_type": "code",
   "execution_count": null,
   "id": "d027f125",
   "metadata": {},
   "outputs": [],
   "source": []
  },
  {
   "cell_type": "code",
   "execution_count": null,
   "id": "029666bf",
   "metadata": {},
   "outputs": [],
   "source": []
  },
  {
   "cell_type": "code",
   "execution_count": null,
   "id": "aa751760",
   "metadata": {},
   "outputs": [],
   "source": []
  },
  {
   "cell_type": "code",
   "execution_count": 185,
   "id": "0b6bac03",
   "metadata": {},
   "outputs": [],
   "source": [
    "df_final = pd.get_dummies(df_join, columns= ['state','gender', 'is_married', 'promo_group_1', 'promo_group_2'], drop_first=True)"
   ]
  },
  {
   "cell_type": "code",
   "execution_count": 186,
   "id": "e55b3e8a",
   "metadata": {},
   "outputs": [
    {
     "name": "stdout",
     "output_type": "stream",
     "text": [
      "<class 'pandas.core.frame.DataFrame'>\n",
      "RangeIndex: 553076 entries, 0 to 553075\n",
      "Data columns (total 22 columns):\n",
      " #   Column                  Non-Null Count   Dtype  \n",
      "---  ------                  --------------   -----  \n",
      " 0   customer_id_t           553076 non-null  int64  \n",
      " 1   month                   553076 non-null  int64  \n",
      " 2   transaction_value       553076 non-null  float64\n",
      " 3   age                     553076 non-null  int64  \n",
      " 4   income                  470950 non-null  float64\n",
      " 5   customer_loyalty_index  470251 non-null  float64\n",
      " 6   brand_awareness_index   470251 non-null  float64\n",
      " 7   state_FL                553076 non-null  uint8  \n",
      " 8   state_GA                553076 non-null  uint8  \n",
      " 9   state_MA                553076 non-null  uint8  \n",
      " 10  state_ME                553076 non-null  uint8  \n",
      " 11  state_NH                553076 non-null  uint8  \n",
      " 12  state_NJ                553076 non-null  uint8  \n",
      " 13  state_NY                553076 non-null  uint8  \n",
      " 14  state_TX                553076 non-null  uint8  \n",
      " 15  gender_Male             553076 non-null  uint8  \n",
      " 16  gender_Other            553076 non-null  uint8  \n",
      " 17  is_married_Y            553076 non-null  uint8  \n",
      " 18  promo_group_1_B         553076 non-null  uint8  \n",
      " 19  promo_group_1_C         553076 non-null  uint8  \n",
      " 20  promo_group_2_Y         553076 non-null  uint8  \n",
      " 21  promo_group_2_Z         553076 non-null  uint8  \n",
      "dtypes: float64(4), int64(3), uint8(15)\n",
      "memory usage: 37.4 MB\n"
     ]
    }
   ],
   "source": [
    "df_final.info()"
   ]
  },
  {
   "cell_type": "code",
   "execution_count": 187,
   "id": "2b796dec",
   "metadata": {},
   "outputs": [
    {
     "data": {
      "text/plain": [
       "customer_id_t                 0\n",
       "month                         0\n",
       "transaction_value             0\n",
       "age                           0\n",
       "income                    82126\n",
       "customer_loyalty_index    82825\n",
       "brand_awareness_index     82825\n",
       "state_FL                      0\n",
       "state_GA                      0\n",
       "state_MA                      0\n",
       "state_ME                      0\n",
       "state_NH                      0\n",
       "state_NJ                      0\n",
       "state_NY                      0\n",
       "state_TX                      0\n",
       "gender_Male                   0\n",
       "gender_Other                  0\n",
       "is_married_Y                  0\n",
       "promo_group_1_B               0\n",
       "promo_group_1_C               0\n",
       "promo_group_2_Y               0\n",
       "promo_group_2_Z               0\n",
       "dtype: int64"
      ]
     },
     "execution_count": 187,
     "metadata": {},
     "output_type": "execute_result"
    }
   ],
   "source": [
    "df_final.isnull().sum()"
   ]
  },
  {
   "cell_type": "code",
   "execution_count": 188,
   "id": "9b3b288c",
   "metadata": {},
   "outputs": [
    {
     "name": "stdout",
     "output_type": "stream",
     "text": [
      "<class 'pandas.core.frame.DataFrame'>\n",
      "RangeIndex: 553076 entries, 0 to 553075\n",
      "Data columns (total 22 columns):\n",
      " #   Column                  Non-Null Count   Dtype  \n",
      "---  ------                  --------------   -----  \n",
      " 0   customer_id_t           553076 non-null  int64  \n",
      " 1   month                   553076 non-null  int64  \n",
      " 2   transaction_value       553076 non-null  float64\n",
      " 3   age                     553076 non-null  int64  \n",
      " 4   income                  553076 non-null  float64\n",
      " 5   customer_loyalty_index  553076 non-null  float64\n",
      " 6   brand_awareness_index   553076 non-null  float64\n",
      " 7   state_FL                553076 non-null  uint8  \n",
      " 8   state_GA                553076 non-null  uint8  \n",
      " 9   state_MA                553076 non-null  uint8  \n",
      " 10  state_ME                553076 non-null  uint8  \n",
      " 11  state_NH                553076 non-null  uint8  \n",
      " 12  state_NJ                553076 non-null  uint8  \n",
      " 13  state_NY                553076 non-null  uint8  \n",
      " 14  state_TX                553076 non-null  uint8  \n",
      " 15  gender_Male             553076 non-null  uint8  \n",
      " 16  gender_Other            553076 non-null  uint8  \n",
      " 17  is_married_Y            553076 non-null  uint8  \n",
      " 18  promo_group_1_B         553076 non-null  uint8  \n",
      " 19  promo_group_1_C         553076 non-null  uint8  \n",
      " 20  promo_group_2_Y         553076 non-null  uint8  \n",
      " 21  promo_group_2_Z         553076 non-null  uint8  \n",
      "dtypes: float64(4), int64(3), uint8(15)\n",
      "memory usage: 37.4 MB\n"
     ]
    }
   ],
   "source": [
    "#df_final.dropna(inplace = True)\n",
    "\n",
    "#df_final['income'].replace(np.NaN, df_final['income'].mean(), inplace = True)\n",
    "#df_final['customer_loyalty_index'].replace(np.NaN, df_final['customer_loyalty_index'].mean(), inplace = True)\n",
    "#df_final['brand_awareness_index'].replace(np.NaN, df_final['brand_awareness_index'].mean(), inplace = True)\n",
    "\n",
    "from sklearn.linear_model import LinearRegression\n",
    "linreg_i = LinearRegression()\n",
    "linreg_c = LinearRegression()\n",
    "linreg_b = LinearRegression()\n",
    "\n",
    "data = df_final[['age', 'state_FL', 'state_GA', 'state_MA', 'state_ME', 'state_NH', 'state_NJ', 'state_NY', 'state_TX',\n",
    "                'gender_Male', 'gender_Other', 'is_married_Y', 'income', 'customer_loyalty_index', 'brand_awareness_index']]\n",
    "\n",
    "data_without_null = data.dropna()\n",
    "\n",
    "train_data_x = data_without_null.iloc[:, :12]\n",
    "\n",
    "train_data_i = data_without_null.iloc[:, 12]\n",
    "train_data_c = data_without_null.iloc[:, 13]\n",
    "train_data_b = data_without_null.iloc[:, 14]\n",
    "\n",
    "linreg_i.fit(train_data_x, train_data_i)\n",
    "linreg_c.fit(train_data_x, train_data_c)\n",
    "linreg_b.fit(train_data_x, train_data_b)\n",
    "\n",
    "test_data_x = data.iloc[:, :12]\n",
    "\n",
    "income = pd.Series(linreg_i.predict(test_data_x))\n",
    "customer_loyalty_index = pd.Series(linreg_c.predict(test_data_x))\n",
    "brand_awareness_index = pd.Series(linreg_b.predict(test_data_x))\n",
    "\n",
    "df_final.income.fillna(income, inplace = True)\n",
    "df_final.customer_loyalty_index.fillna(customer_loyalty_index, inplace = True)\n",
    "df_final.brand_awareness_index.fillna(brand_awareness_index, inplace = True)\n",
    "\n",
    "df_final.info()"
   ]
  },
  {
   "cell_type": "code",
   "execution_count": 219,
   "id": "faf080e4",
   "metadata": {},
   "outputs": [],
   "source": [
    "X = df_final.drop('transaction_value', axis = 1).values\n",
    "y = df_final['transaction_value'].values"
   ]
  },
  {
   "cell_type": "code",
   "execution_count": 220,
   "id": "35ea45de",
   "metadata": {},
   "outputs": [],
   "source": [
    "from sklearn.model_selection import train_test_split\n",
    "X_train, X_test, y_train, y_test = train_test_split(X, y, test_size=0.3, random_state=101)\n",
    "\n",
    "from sklearn.preprocessing import MinMaxScaler, StandardScaler\n",
    "\n",
    "scaler = StandardScaler()\n",
    "\n",
    "X_train = scaler.fit_transform(X_train)\n",
    "\n",
    "X_test = scaler.transform(X_test)"
   ]
  },
  {
   "cell_type": "code",
   "execution_count": 232,
   "id": "cbe8cef1",
   "metadata": {},
   "outputs": [],
   "source": [
    "from tensorflow.keras.models import Sequential\n",
    "from tensorflow.keras.layers import Dense, Dropout\n",
    "\n",
    "model = Sequential()\n",
    "\n",
    "model.add(Dense(22, activation='relu'))\n",
    "#model.add(Dropout(0.3))\n",
    "\n",
    "model.add(Dense(19, activation='relu'))\n",
    "\n",
    "model.add(Dense(16, activation='relu'))\n",
    "#model.add(Dropout(0.3))\n",
    "\n",
    "model.add(Dense(8, activation='relu'))\n",
    "\n",
    "model.add(Dense(4, activation='relu'))\n",
    "\n",
    "model.add(Dense(1, activation = 'linear'))\n",
    "\n",
    "model.compile(optimizer='adam', loss = 'mse')"
   ]
  },
  {
   "cell_type": "code",
   "execution_count": 233,
   "id": "a714f4f9",
   "metadata": {},
   "outputs": [
    {
     "name": "stdout",
     "output_type": "stream",
     "text": [
      "Epoch 1/400\n",
      "3025/3025 [==============================] - 12s 3ms/step - loss: 1586.9574 - val_loss: 1314.7874\n",
      "Epoch 2/400\n",
      "3025/3025 [==============================] - 10s 3ms/step - loss: 1300.2720 - val_loss: 1279.6444\n",
      "Epoch 3/400\n",
      "3025/3025 [==============================] - 9s 3ms/step - loss: 1279.1003 - val_loss: 1268.1757\n",
      "Epoch 4/400\n",
      "3025/3025 [==============================] - 9s 3ms/step - loss: 1271.2817 - val_loss: 1263.9364\n",
      "Epoch 5/400\n",
      "3025/3025 [==============================] - 8s 3ms/step - loss: 1265.7173 - val_loss: 1257.3502\n",
      "Epoch 6/400\n",
      "3025/3025 [==============================] - 8s 3ms/step - loss: 1262.8665 - val_loss: 1254.3757\n",
      "Epoch 7/400\n",
      "3025/3025 [==============================] - 9s 3ms/step - loss: 1259.6683 - val_loss: 1273.1036\n",
      "Epoch 8/400\n",
      "3025/3025 [==============================] - 9s 3ms/step - loss: 1257.2595 - val_loss: 1250.3657\n",
      "Epoch 9/400\n",
      "3025/3025 [==============================] - 10s 3ms/step - loss: 1254.5093 - val_loss: 1251.8385\n",
      "Epoch 10/400\n",
      "3025/3025 [==============================] - 9s 3ms/step - loss: 1253.9808 - val_loss: 1254.3606\n",
      "Epoch 11/400\n",
      "3025/3025 [==============================] - 9s 3ms/step - loss: 1252.9430 - val_loss: 1255.6427\n",
      "Epoch 12/400\n",
      "3025/3025 [==============================] - 9s 3ms/step - loss: 1251.8629 - val_loss: 1256.0480\n",
      "Epoch 13/400\n",
      "3025/3025 [==============================] - 9s 3ms/step - loss: 1251.7039 - val_loss: 1249.3550\n",
      "Epoch 14/400\n",
      "3025/3025 [==============================] - 10s 3ms/step - loss: 1248.7748 - val_loss: 1257.2622\n",
      "Epoch 15/400\n",
      "3025/3025 [==============================] - 9s 3ms/step - loss: 1248.9061 - val_loss: 1252.9261\n",
      "Epoch 16/400\n",
      "3025/3025 [==============================] - 9s 3ms/step - loss: 1248.7700 - val_loss: 1252.8734\n",
      "Epoch 17/400\n",
      "3025/3025 [==============================] - 9s 3ms/step - loss: 1247.5601 - val_loss: 1255.1284\n",
      "Epoch 18/400\n",
      "3025/3025 [==============================] - 9s 3ms/step - loss: 1245.8220 - val_loss: 1248.2411\n",
      "Epoch 19/400\n",
      "3025/3025 [==============================] - 9s 3ms/step - loss: 1245.5667 - val_loss: 1248.7573\n",
      "Epoch 20/400\n",
      "3025/3025 [==============================] - 9s 3ms/step - loss: 1244.5464 - val_loss: 1248.6519\n",
      "Epoch 21/400\n",
      "3025/3025 [==============================] - 9s 3ms/step - loss: 1243.4071 - val_loss: 1249.7052\n",
      "Epoch 22/400\n",
      "3025/3025 [==============================] - 8s 3ms/step - loss: 1243.2145 - val_loss: 1247.4646\n",
      "Epoch 23/400\n",
      "3025/3025 [==============================] - 9s 3ms/step - loss: 1242.2771 - val_loss: 1248.1083\n",
      "Epoch 24/400\n",
      "3025/3025 [==============================] - 9s 3ms/step - loss: 1241.9221 - val_loss: 1245.1587\n",
      "Epoch 25/400\n",
      "3025/3025 [==============================] - 9s 3ms/step - loss: 1240.3429 - val_loss: 1247.0366\n",
      "Epoch 26/400\n",
      "3025/3025 [==============================] - 9s 3ms/step - loss: 1239.6011 - val_loss: 1243.1118\n",
      "Epoch 27/400\n",
      "3025/3025 [==============================] - 9s 3ms/step - loss: 1238.5134 - val_loss: 1244.9829\n",
      "Epoch 28/400\n",
      "3025/3025 [==============================] - 9s 3ms/step - loss: 1238.8291 - val_loss: 1243.5315\n",
      "Epoch 29/400\n",
      "3025/3025 [==============================] - 8s 3ms/step - loss: 1236.1718 - val_loss: 1254.9355\n",
      "Epoch 30/400\n",
      "3025/3025 [==============================] - 9s 3ms/step - loss: 1238.3317 - val_loss: 1245.3535\n",
      "Epoch 31/400\n",
      "3025/3025 [==============================] - 9s 3ms/step - loss: 1236.3969 - val_loss: 1245.4891\n",
      "Epoch 32/400\n",
      "3025/3025 [==============================] - 9s 3ms/step - loss: 1236.8317 - val_loss: 1246.2712\n",
      "Epoch 33/400\n",
      "3025/3025 [==============================] - 9s 3ms/step - loss: 1234.4553 - val_loss: 1241.6742\n",
      "Epoch 34/400\n",
      "3025/3025 [==============================] - 9s 3ms/step - loss: 1235.1061 - val_loss: 1241.3695\n",
      "Epoch 35/400\n",
      "3025/3025 [==============================] - 8s 3ms/step - loss: 1232.9410 - val_loss: 1241.3718\n",
      "Epoch 36/400\n",
      "3025/3025 [==============================] - 9s 3ms/step - loss: 1234.3079 - val_loss: 1244.0302\n",
      "Epoch 37/400\n",
      "3025/3025 [==============================] - 9s 3ms/step - loss: 1233.3262 - val_loss: 1242.3821\n",
      "Epoch 38/400\n",
      "3025/3025 [==============================] - 8s 3ms/step - loss: 1233.2382 - val_loss: 1240.0459\n",
      "Epoch 39/400\n",
      "3025/3025 [==============================] - 8s 3ms/step - loss: 1231.8234 - val_loss: 1242.9669\n",
      "Epoch 40/400\n",
      "3025/3025 [==============================] - 9s 3ms/step - loss: 1231.1221 - val_loss: 1240.5651\n",
      "Epoch 41/400\n",
      "3025/3025 [==============================] - 9s 3ms/step - loss: 1230.3989 - val_loss: 1250.7654\n",
      "Epoch 42/400\n",
      "3025/3025 [==============================] - 10s 3ms/step - loss: 1231.5133 - val_loss: 1240.6444\n",
      "Epoch 43/400\n",
      "3025/3025 [==============================] - 10s 3ms/step - loss: 1230.3999 - val_loss: 1240.9838\n",
      "Epoch 44/400\n",
      "3025/3025 [==============================] - 9s 3ms/step - loss: 1229.1572 - val_loss: 1251.1838\n",
      "Epoch 45/400\n",
      "3025/3025 [==============================] - 9s 3ms/step - loss: 1230.2627 - val_loss: 1239.9097\n",
      "Epoch 46/400\n",
      "3025/3025 [==============================] - 8s 3ms/step - loss: 1229.2848 - val_loss: 1242.8940\n",
      "Epoch 47/400\n",
      "3025/3025 [==============================] - 8s 3ms/step - loss: 1228.0485 - val_loss: 1250.7854\n",
      "Epoch 48/400\n",
      "3025/3025 [==============================] - 8s 3ms/step - loss: 1228.2419 - val_loss: 1240.0394\n",
      "Epoch 49/400\n",
      "3025/3025 [==============================] - 8s 3ms/step - loss: 1228.9442 - val_loss: 1253.6512\n",
      "Epoch 50/400\n",
      "3025/3025 [==============================] - 8s 3ms/step - loss: 1227.5680 - val_loss: 1242.1968\n",
      "Epoch 51/400\n",
      "3025/3025 [==============================] - 10s 3ms/step - loss: 1228.3248 - val_loss: 1239.0465\n",
      "Epoch 52/400\n",
      "3025/3025 [==============================] - 9s 3ms/step - loss: 1227.8472 - val_loss: 1244.2463\n",
      "Epoch 53/400\n",
      "3025/3025 [==============================] - 9s 3ms/step - loss: 1227.4012 - val_loss: 1246.1293\n",
      "Epoch 54/400\n",
      "3025/3025 [==============================] - 10s 3ms/step - loss: 1226.5480 - val_loss: 1243.1960\n",
      "Epoch 55/400\n",
      " 850/3025 [=======>......................] - ETA: 7s - loss: 1191.7528"
     ]
    },
    {
     "ename": "KeyboardInterrupt",
     "evalue": "",
     "output_type": "error",
     "traceback": [
      "\u001b[0;31m---------------------------------------------------------------------------\u001b[0m",
      "\u001b[0;31mKeyboardInterrupt\u001b[0m                         Traceback (most recent call last)",
      "\u001b[0;32m<ipython-input-233-fe3f69f63d70>\u001b[0m in \u001b[0;36m<module>\u001b[0;34m\u001b[0m\n\u001b[1;32m      2\u001b[0m \u001b[0mearly_stop\u001b[0m \u001b[0;34m=\u001b[0m \u001b[0mEarlyStopping\u001b[0m\u001b[0;34m(\u001b[0m\u001b[0mmonitor\u001b[0m \u001b[0;34m=\u001b[0m \u001b[0;34m'val_loss'\u001b[0m\u001b[0;34m,\u001b[0m \u001b[0mmode\u001b[0m \u001b[0;34m=\u001b[0m \u001b[0;34m'min'\u001b[0m\u001b[0;34m,\u001b[0m \u001b[0mverbose\u001b[0m \u001b[0;34m=\u001b[0m \u001b[0;36m1\u001b[0m\u001b[0;34m,\u001b[0m \u001b[0mpatience\u001b[0m \u001b[0;34m=\u001b[0m \u001b[0;36m10\u001b[0m\u001b[0;34m)\u001b[0m\u001b[0;34m\u001b[0m\u001b[0;34m\u001b[0m\u001b[0m\n\u001b[1;32m      3\u001b[0m \u001b[0;34m\u001b[0m\u001b[0m\n\u001b[0;32m----> 4\u001b[0;31m model.fit(x = X_train, y = y_train, \n\u001b[0m\u001b[1;32m      5\u001b[0m           \u001b[0mvalidation_data\u001b[0m \u001b[0;34m=\u001b[0m \u001b[0;34m(\u001b[0m\u001b[0mX_test\u001b[0m\u001b[0;34m,\u001b[0m\u001b[0my_test\u001b[0m\u001b[0;34m)\u001b[0m\u001b[0;34m,\u001b[0m\u001b[0;34m\u001b[0m\u001b[0;34m\u001b[0m\u001b[0m\n\u001b[1;32m      6\u001b[0m           \u001b[0mcallbacks\u001b[0m \u001b[0;34m=\u001b[0m \u001b[0;34m[\u001b[0m\u001b[0mearly_stop\u001b[0m\u001b[0;34m]\u001b[0m\u001b[0;34m,\u001b[0m\u001b[0;34m\u001b[0m\u001b[0;34m\u001b[0m\u001b[0m\n",
      "\u001b[0;32m~/opt/anaconda3/lib/python3.8/site-packages/keras/utils/traceback_utils.py\u001b[0m in \u001b[0;36merror_handler\u001b[0;34m(*args, **kwargs)\u001b[0m\n\u001b[1;32m     62\u001b[0m     \u001b[0mfiltered_tb\u001b[0m \u001b[0;34m=\u001b[0m \u001b[0;32mNone\u001b[0m\u001b[0;34m\u001b[0m\u001b[0;34m\u001b[0m\u001b[0m\n\u001b[1;32m     63\u001b[0m     \u001b[0;32mtry\u001b[0m\u001b[0;34m:\u001b[0m\u001b[0;34m\u001b[0m\u001b[0;34m\u001b[0m\u001b[0m\n\u001b[0;32m---> 64\u001b[0;31m       \u001b[0;32mreturn\u001b[0m \u001b[0mfn\u001b[0m\u001b[0;34m(\u001b[0m\u001b[0;34m*\u001b[0m\u001b[0margs\u001b[0m\u001b[0;34m,\u001b[0m \u001b[0;34m**\u001b[0m\u001b[0mkwargs\u001b[0m\u001b[0;34m)\u001b[0m\u001b[0;34m\u001b[0m\u001b[0;34m\u001b[0m\u001b[0m\n\u001b[0m\u001b[1;32m     65\u001b[0m     \u001b[0;32mexcept\u001b[0m \u001b[0mException\u001b[0m \u001b[0;32mas\u001b[0m \u001b[0me\u001b[0m\u001b[0;34m:\u001b[0m  \u001b[0;31m# pylint: disable=broad-except\u001b[0m\u001b[0;34m\u001b[0m\u001b[0;34m\u001b[0m\u001b[0m\n\u001b[1;32m     66\u001b[0m       \u001b[0mfiltered_tb\u001b[0m \u001b[0;34m=\u001b[0m \u001b[0m_process_traceback_frames\u001b[0m\u001b[0;34m(\u001b[0m\u001b[0me\u001b[0m\u001b[0;34m.\u001b[0m\u001b[0m__traceback__\u001b[0m\u001b[0;34m)\u001b[0m\u001b[0;34m\u001b[0m\u001b[0;34m\u001b[0m\u001b[0m\n",
      "\u001b[0;32m~/opt/anaconda3/lib/python3.8/site-packages/keras/engine/training.py\u001b[0m in \u001b[0;36mfit\u001b[0;34m(self, x, y, batch_size, epochs, verbose, callbacks, validation_split, validation_data, shuffle, class_weight, sample_weight, initial_epoch, steps_per_epoch, validation_steps, validation_batch_size, validation_freq, max_queue_size, workers, use_multiprocessing)\u001b[0m\n\u001b[1;32m   1214\u001b[0m                 _r=1):\n\u001b[1;32m   1215\u001b[0m               \u001b[0mcallbacks\u001b[0m\u001b[0;34m.\u001b[0m\u001b[0mon_train_batch_begin\u001b[0m\u001b[0;34m(\u001b[0m\u001b[0mstep\u001b[0m\u001b[0;34m)\u001b[0m\u001b[0;34m\u001b[0m\u001b[0;34m\u001b[0m\u001b[0m\n\u001b[0;32m-> 1216\u001b[0;31m               \u001b[0mtmp_logs\u001b[0m \u001b[0;34m=\u001b[0m \u001b[0mself\u001b[0m\u001b[0;34m.\u001b[0m\u001b[0mtrain_function\u001b[0m\u001b[0;34m(\u001b[0m\u001b[0miterator\u001b[0m\u001b[0;34m)\u001b[0m\u001b[0;34m\u001b[0m\u001b[0;34m\u001b[0m\u001b[0m\n\u001b[0m\u001b[1;32m   1217\u001b[0m               \u001b[0;32mif\u001b[0m \u001b[0mdata_handler\u001b[0m\u001b[0;34m.\u001b[0m\u001b[0mshould_sync\u001b[0m\u001b[0;34m:\u001b[0m\u001b[0;34m\u001b[0m\u001b[0;34m\u001b[0m\u001b[0m\n\u001b[1;32m   1218\u001b[0m                 \u001b[0mcontext\u001b[0m\u001b[0;34m.\u001b[0m\u001b[0masync_wait\u001b[0m\u001b[0;34m(\u001b[0m\u001b[0;34m)\u001b[0m\u001b[0;34m\u001b[0m\u001b[0;34m\u001b[0m\u001b[0m\n",
      "\u001b[0;32m~/opt/anaconda3/lib/python3.8/site-packages/tensorflow/python/util/traceback_utils.py\u001b[0m in \u001b[0;36merror_handler\u001b[0;34m(*args, **kwargs)\u001b[0m\n\u001b[1;32m    148\u001b[0m     \u001b[0mfiltered_tb\u001b[0m \u001b[0;34m=\u001b[0m \u001b[0;32mNone\u001b[0m\u001b[0;34m\u001b[0m\u001b[0;34m\u001b[0m\u001b[0m\n\u001b[1;32m    149\u001b[0m     \u001b[0;32mtry\u001b[0m\u001b[0;34m:\u001b[0m\u001b[0;34m\u001b[0m\u001b[0;34m\u001b[0m\u001b[0m\n\u001b[0;32m--> 150\u001b[0;31m       \u001b[0;32mreturn\u001b[0m \u001b[0mfn\u001b[0m\u001b[0;34m(\u001b[0m\u001b[0;34m*\u001b[0m\u001b[0margs\u001b[0m\u001b[0;34m,\u001b[0m \u001b[0;34m**\u001b[0m\u001b[0mkwargs\u001b[0m\u001b[0;34m)\u001b[0m\u001b[0;34m\u001b[0m\u001b[0;34m\u001b[0m\u001b[0m\n\u001b[0m\u001b[1;32m    151\u001b[0m     \u001b[0;32mexcept\u001b[0m \u001b[0mException\u001b[0m \u001b[0;32mas\u001b[0m \u001b[0me\u001b[0m\u001b[0;34m:\u001b[0m\u001b[0;34m\u001b[0m\u001b[0;34m\u001b[0m\u001b[0m\n\u001b[1;32m    152\u001b[0m       \u001b[0mfiltered_tb\u001b[0m \u001b[0;34m=\u001b[0m \u001b[0m_process_traceback_frames\u001b[0m\u001b[0;34m(\u001b[0m\u001b[0me\u001b[0m\u001b[0;34m.\u001b[0m\u001b[0m__traceback__\u001b[0m\u001b[0;34m)\u001b[0m\u001b[0;34m\u001b[0m\u001b[0;34m\u001b[0m\u001b[0m\n",
      "\u001b[0;32m~/opt/anaconda3/lib/python3.8/site-packages/tensorflow/python/eager/def_function.py\u001b[0m in \u001b[0;36m__call__\u001b[0;34m(self, *args, **kwds)\u001b[0m\n\u001b[1;32m    908\u001b[0m \u001b[0;34m\u001b[0m\u001b[0m\n\u001b[1;32m    909\u001b[0m       \u001b[0;32mwith\u001b[0m \u001b[0mOptionalXlaContext\u001b[0m\u001b[0;34m(\u001b[0m\u001b[0mself\u001b[0m\u001b[0;34m.\u001b[0m\u001b[0m_jit_compile\u001b[0m\u001b[0;34m)\u001b[0m\u001b[0;34m:\u001b[0m\u001b[0;34m\u001b[0m\u001b[0;34m\u001b[0m\u001b[0m\n\u001b[0;32m--> 910\u001b[0;31m         \u001b[0mresult\u001b[0m \u001b[0;34m=\u001b[0m \u001b[0mself\u001b[0m\u001b[0;34m.\u001b[0m\u001b[0m_call\u001b[0m\u001b[0;34m(\u001b[0m\u001b[0;34m*\u001b[0m\u001b[0margs\u001b[0m\u001b[0;34m,\u001b[0m \u001b[0;34m**\u001b[0m\u001b[0mkwds\u001b[0m\u001b[0;34m)\u001b[0m\u001b[0;34m\u001b[0m\u001b[0;34m\u001b[0m\u001b[0m\n\u001b[0m\u001b[1;32m    911\u001b[0m \u001b[0;34m\u001b[0m\u001b[0m\n\u001b[1;32m    912\u001b[0m       \u001b[0mnew_tracing_count\u001b[0m \u001b[0;34m=\u001b[0m \u001b[0mself\u001b[0m\u001b[0;34m.\u001b[0m\u001b[0mexperimental_get_tracing_count\u001b[0m\u001b[0;34m(\u001b[0m\u001b[0;34m)\u001b[0m\u001b[0;34m\u001b[0m\u001b[0;34m\u001b[0m\u001b[0m\n",
      "\u001b[0;32m~/opt/anaconda3/lib/python3.8/site-packages/tensorflow/python/eager/def_function.py\u001b[0m in \u001b[0;36m_call\u001b[0;34m(self, *args, **kwds)\u001b[0m\n\u001b[1;32m    940\u001b[0m       \u001b[0;31m# In this case we have created variables on the first call, so we run the\u001b[0m\u001b[0;34m\u001b[0m\u001b[0;34m\u001b[0m\u001b[0;34m\u001b[0m\u001b[0m\n\u001b[1;32m    941\u001b[0m       \u001b[0;31m# defunned version which is guaranteed to never create variables.\u001b[0m\u001b[0;34m\u001b[0m\u001b[0;34m\u001b[0m\u001b[0;34m\u001b[0m\u001b[0m\n\u001b[0;32m--> 942\u001b[0;31m       \u001b[0;32mreturn\u001b[0m \u001b[0mself\u001b[0m\u001b[0;34m.\u001b[0m\u001b[0m_stateless_fn\u001b[0m\u001b[0;34m(\u001b[0m\u001b[0;34m*\u001b[0m\u001b[0margs\u001b[0m\u001b[0;34m,\u001b[0m \u001b[0;34m**\u001b[0m\u001b[0mkwds\u001b[0m\u001b[0;34m)\u001b[0m  \u001b[0;31m# pylint: disable=not-callable\u001b[0m\u001b[0;34m\u001b[0m\u001b[0;34m\u001b[0m\u001b[0m\n\u001b[0m\u001b[1;32m    943\u001b[0m     \u001b[0;32melif\u001b[0m \u001b[0mself\u001b[0m\u001b[0;34m.\u001b[0m\u001b[0m_stateful_fn\u001b[0m \u001b[0;32mis\u001b[0m \u001b[0;32mnot\u001b[0m \u001b[0;32mNone\u001b[0m\u001b[0;34m:\u001b[0m\u001b[0;34m\u001b[0m\u001b[0;34m\u001b[0m\u001b[0m\n\u001b[1;32m    944\u001b[0m       \u001b[0;31m# Release the lock early so that multiple threads can perform the call\u001b[0m\u001b[0;34m\u001b[0m\u001b[0;34m\u001b[0m\u001b[0;34m\u001b[0m\u001b[0m\n",
      "\u001b[0;32m~/opt/anaconda3/lib/python3.8/site-packages/tensorflow/python/eager/function.py\u001b[0m in \u001b[0;36m__call__\u001b[0;34m(self, *args, **kwargs)\u001b[0m\n\u001b[1;32m   3128\u001b[0m       (graph_function,\n\u001b[1;32m   3129\u001b[0m        filtered_flat_args) = self._maybe_define_function(args, kwargs)\n\u001b[0;32m-> 3130\u001b[0;31m     return graph_function._call_flat(\n\u001b[0m\u001b[1;32m   3131\u001b[0m         filtered_flat_args, captured_inputs=graph_function.captured_inputs)  # pylint: disable=protected-access\n\u001b[1;32m   3132\u001b[0m \u001b[0;34m\u001b[0m\u001b[0m\n",
      "\u001b[0;32m~/opt/anaconda3/lib/python3.8/site-packages/tensorflow/python/eager/function.py\u001b[0m in \u001b[0;36m_call_flat\u001b[0;34m(self, args, captured_inputs, cancellation_manager)\u001b[0m\n\u001b[1;32m   1957\u001b[0m         and executing_eagerly):\n\u001b[1;32m   1958\u001b[0m       \u001b[0;31m# No tape is watching; skip to running the function.\u001b[0m\u001b[0;34m\u001b[0m\u001b[0;34m\u001b[0m\u001b[0;34m\u001b[0m\u001b[0m\n\u001b[0;32m-> 1959\u001b[0;31m       return self._build_call_outputs(self._inference_function.call(\n\u001b[0m\u001b[1;32m   1960\u001b[0m           ctx, args, cancellation_manager=cancellation_manager))\n\u001b[1;32m   1961\u001b[0m     forward_backward = self._select_forward_and_backward_functions(\n",
      "\u001b[0;32m~/opt/anaconda3/lib/python3.8/site-packages/tensorflow/python/eager/function.py\u001b[0m in \u001b[0;36mcall\u001b[0;34m(self, ctx, args, cancellation_manager)\u001b[0m\n\u001b[1;32m    596\u001b[0m       \u001b[0;32mwith\u001b[0m \u001b[0m_InterpolateFunctionError\u001b[0m\u001b[0;34m(\u001b[0m\u001b[0mself\u001b[0m\u001b[0;34m)\u001b[0m\u001b[0;34m:\u001b[0m\u001b[0;34m\u001b[0m\u001b[0;34m\u001b[0m\u001b[0m\n\u001b[1;32m    597\u001b[0m         \u001b[0;32mif\u001b[0m \u001b[0mcancellation_manager\u001b[0m \u001b[0;32mis\u001b[0m \u001b[0;32mNone\u001b[0m\u001b[0;34m:\u001b[0m\u001b[0;34m\u001b[0m\u001b[0;34m\u001b[0m\u001b[0m\n\u001b[0;32m--> 598\u001b[0;31m           outputs = execute.execute(\n\u001b[0m\u001b[1;32m    599\u001b[0m               \u001b[0mstr\u001b[0m\u001b[0;34m(\u001b[0m\u001b[0mself\u001b[0m\u001b[0;34m.\u001b[0m\u001b[0msignature\u001b[0m\u001b[0;34m.\u001b[0m\u001b[0mname\u001b[0m\u001b[0;34m)\u001b[0m\u001b[0;34m,\u001b[0m\u001b[0;34m\u001b[0m\u001b[0;34m\u001b[0m\u001b[0m\n\u001b[1;32m    600\u001b[0m               \u001b[0mnum_outputs\u001b[0m\u001b[0;34m=\u001b[0m\u001b[0mself\u001b[0m\u001b[0;34m.\u001b[0m\u001b[0m_num_outputs\u001b[0m\u001b[0;34m,\u001b[0m\u001b[0;34m\u001b[0m\u001b[0;34m\u001b[0m\u001b[0m\n",
      "\u001b[0;32m~/opt/anaconda3/lib/python3.8/site-packages/tensorflow/python/eager/execute.py\u001b[0m in \u001b[0;36mquick_execute\u001b[0;34m(op_name, num_outputs, inputs, attrs, ctx, name)\u001b[0m\n\u001b[1;32m     56\u001b[0m   \u001b[0;32mtry\u001b[0m\u001b[0;34m:\u001b[0m\u001b[0;34m\u001b[0m\u001b[0;34m\u001b[0m\u001b[0m\n\u001b[1;32m     57\u001b[0m     \u001b[0mctx\u001b[0m\u001b[0;34m.\u001b[0m\u001b[0mensure_initialized\u001b[0m\u001b[0;34m(\u001b[0m\u001b[0;34m)\u001b[0m\u001b[0;34m\u001b[0m\u001b[0;34m\u001b[0m\u001b[0m\n\u001b[0;32m---> 58\u001b[0;31m     tensors = pywrap_tfe.TFE_Py_Execute(ctx._handle, device_name, op_name,\n\u001b[0m\u001b[1;32m     59\u001b[0m                                         inputs, attrs, num_outputs)\n\u001b[1;32m     60\u001b[0m   \u001b[0;32mexcept\u001b[0m \u001b[0mcore\u001b[0m\u001b[0;34m.\u001b[0m\u001b[0m_NotOkStatusException\u001b[0m \u001b[0;32mas\u001b[0m \u001b[0me\u001b[0m\u001b[0;34m:\u001b[0m\u001b[0;34m\u001b[0m\u001b[0;34m\u001b[0m\u001b[0m\n",
      "\u001b[0;31mKeyboardInterrupt\u001b[0m: "
     ]
    }
   ],
   "source": [
    "from tensorflow.keras.callbacks import EarlyStopping\n",
    "early_stop = EarlyStopping(monitor = 'val_loss', mode = 'min', verbose = 1, patience = 10)\n",
    "\n",
    "model.fit(x = X_train, y = y_train, \n",
    "          validation_data = (X_test,y_test),\n",
    "          callbacks = [early_stop],\n",
    "         batch_size = 128, epochs = 400)"
   ]
  },
  {
   "cell_type": "code",
   "execution_count": null,
   "id": "683fdc2b",
   "metadata": {},
   "outputs": [],
   "source": [
    "losses = pd.DataFrame(model.history.history)"
   ]
  },
  {
   "cell_type": "code",
   "execution_count": null,
   "id": "aacc2015",
   "metadata": {},
   "outputs": [],
   "source": [
    "losses.plot()"
   ]
  },
  {
   "cell_type": "code",
   "execution_count": 57,
   "id": "00893b7e",
   "metadata": {},
   "outputs": [],
   "source": [
    "from sklearn.metrics import mean_squared_error, mean_absolute_error, explained_variance_score"
   ]
  },
  {
   "cell_type": "code",
   "execution_count": 227,
   "id": "7ec969be",
   "metadata": {},
   "outputs": [],
   "source": [
    "predictions = model.predict(X_test)"
   ]
  },
  {
   "cell_type": "code",
   "execution_count": 228,
   "id": "b7e954e7",
   "metadata": {},
   "outputs": [
    {
     "data": {
      "text/plain": [
       "1248.0731080737414"
      ]
     },
     "execution_count": 228,
     "metadata": {},
     "output_type": "execute_result"
    }
   ],
   "source": [
    "mean_squared_error(y_test,predictions)"
   ]
  },
  {
   "cell_type": "code",
   "execution_count": 229,
   "id": "9abd5697",
   "metadata": {},
   "outputs": [
    {
     "data": {
      "text/plain": [
       "35.32807818256948"
      ]
     },
     "execution_count": 229,
     "metadata": {},
     "output_type": "execute_result"
    }
   ],
   "source": [
    "np.sqrt(mean_squared_error(y_test,predictions))"
   ]
  },
  {
   "cell_type": "code",
   "execution_count": 230,
   "id": "6ee8e64f",
   "metadata": {},
   "outputs": [
    {
     "data": {
      "text/plain": [
       "0.41486413364122743"
      ]
     },
     "execution_count": 230,
     "metadata": {},
     "output_type": "execute_result"
    }
   ],
   "source": [
    "explained_variance_score(y_test, predictions)"
   ]
  },
  {
   "cell_type": "code",
   "execution_count": 231,
   "id": "12ecba05",
   "metadata": {},
   "outputs": [
    {
     "data": {
      "text/plain": [
       "[<matplotlib.lines.Line2D at 0x7fb0585318e0>]"
      ]
     },
     "execution_count": 231,
     "metadata": {},
     "output_type": "execute_result"
    },
    {
     "data": {
      "image/png": "[encoded data removed]",
      "text/plain": [
       "<Figure size 864x432 with 1 Axes>"
      ]
     },
     "metadata": {
      "needs_background": "light"
     },
     "output_type": "display_data"
    }
   ],
   "source": [
    "plt.figure(figsize = (12,6))\n",
    "plt.scatter(y_test,predictions)\n",
    "plt.plot(y_test, y_test, 'r')"
   ]
  },
  {
   "cell_type": "code",
   "execution_count": 74,
   "id": "69684298",
   "metadata": {},
   "outputs": [],
   "source": [
    "import xgboost\n",
    "from xgboost import XGBRegressor\n"
   ]
  },
  {
   "cell_type": "code",
   "execution_count": 145,
   "id": "cca58240",
   "metadata": {},
   "outputs": [
    {
     "name": "stdout",
     "output_type": "stream",
     "text": [
      "[0]\tvalidation_0-rmse:55.68611\n",
      "[1]\tvalidation_0-rmse:54.17349\n",
      "[2]\tvalidation_0-rmse:52.74717\n",
      "[3]\tvalidation_0-rmse:51.42257\n",
      "[4]\tvalidation_0-rmse:50.17553\n",
      "[5]\tvalidation_0-rmse:49.03712\n",
      "[6]\tvalidation_0-rmse:47.98183\n",
      "[7]\tvalidation_0-rmse:47.01467\n",
      "[8]\tvalidation_0-rmse:46.08902\n",
      "[9]\tvalidation_0-rmse:45.23901\n",
      "[10]\tvalidation_0-rmse:44.45876\n",
      "[11]\tvalidation_0-rmse:43.73014\n",
      "[12]\tvalidation_0-rmse:43.07458\n",
      "[13]\tvalidation_0-rmse:42.44975\n",
      "[14]\tvalidation_0-rmse:41.87705\n",
      "[15]\tvalidation_0-rmse:41.33506\n",
      "[16]\tvalidation_0-rmse:40.85697\n",
      "[17]\tvalidation_0-rmse:40.39903\n",
      "[18]\tvalidation_0-rmse:39.97876\n",
      "[19]\tvalidation_0-rmse:39.57888\n",
      "[20]\tvalidation_0-rmse:39.23697\n",
      "[21]\tvalidation_0-rmse:38.90934\n",
      "[22]\tvalidation_0-rmse:38.60983\n",
      "[23]\tvalidation_0-rmse:38.33895\n",
      "[24]\tvalidation_0-rmse:38.07298\n",
      "[25]\tvalidation_0-rmse:37.84079\n",
      "[26]\tvalidation_0-rmse:37.64015\n",
      "[27]\tvalidation_0-rmse:37.45550\n",
      "[28]\tvalidation_0-rmse:37.28328\n",
      "[29]\tvalidation_0-rmse:37.13279\n",
      "[30]\tvalidation_0-rmse:36.99787\n",
      "[31]\tvalidation_0-rmse:36.86134\n",
      "[32]\tvalidation_0-rmse:36.73901\n",
      "[33]\tvalidation_0-rmse:36.63145\n",
      "[34]\tvalidation_0-rmse:36.53180\n",
      "[35]\tvalidation_0-rmse:36.44770\n",
      "[36]\tvalidation_0-rmse:36.36598\n",
      "[37]\tvalidation_0-rmse:36.28997\n",
      "[38]\tvalidation_0-rmse:36.21218\n",
      "[39]\tvalidation_0-rmse:36.16417\n",
      "[40]\tvalidation_0-rmse:36.10085\n",
      "[41]\tvalidation_0-rmse:36.04108\n",
      "[42]\tvalidation_0-rmse:36.00234\n",
      "[43]\tvalidation_0-rmse:35.95104\n",
      "[44]\tvalidation_0-rmse:35.92610\n",
      "[45]\tvalidation_0-rmse:35.87895\n",
      "[46]\tvalidation_0-rmse:35.83734\n",
      "[47]\tvalidation_0-rmse:35.80984\n",
      "[48]\tvalidation_0-rmse:35.79625\n",
      "[49]\tvalidation_0-rmse:35.77204\n",
      "[50]\tvalidation_0-rmse:35.75244\n",
      "[51]\tvalidation_0-rmse:35.72994\n",
      "[52]\tvalidation_0-rmse:35.71576\n",
      "[53]\tvalidation_0-rmse:35.70052\n",
      "[54]\tvalidation_0-rmse:35.67647\n",
      "[55]\tvalidation_0-rmse:35.65704\n",
      "[56]\tvalidation_0-rmse:35.63298\n",
      "[57]\tvalidation_0-rmse:35.63102\n",
      "[58]\tvalidation_0-rmse:35.63128\n",
      "[59]\tvalidation_0-rmse:35.63121\n",
      "[60]\tvalidation_0-rmse:35.62481\n",
      "[61]\tvalidation_0-rmse:35.62273\n",
      "[62]\tvalidation_0-rmse:35.61254\n",
      "[63]\tvalidation_0-rmse:35.60441\n",
      "[64]\tvalidation_0-rmse:35.59903\n",
      "[65]\tvalidation_0-rmse:35.60574\n",
      "[66]\tvalidation_0-rmse:35.60441\n",
      "[67]\tvalidation_0-rmse:35.59728\n",
      "[68]\tvalidation_0-rmse:35.59803\n",
      "[69]\tvalidation_0-rmse:35.59524\n",
      "[70]\tvalidation_0-rmse:35.60646\n",
      "[71]\tvalidation_0-rmse:35.60774\n",
      "[72]\tvalidation_0-rmse:35.61248\n",
      "[73]\tvalidation_0-rmse:35.61582\n",
      "[74]\tvalidation_0-rmse:35.62250\n",
      "[75]\tvalidation_0-rmse:35.62379\n",
      "[76]\tvalidation_0-rmse:35.63164\n",
      "[77]\tvalidation_0-rmse:35.62810\n",
      "[78]\tvalidation_0-rmse:35.63208\n"
     ]
    },
    {
     "data": {
      "text/plain": [
       "XGBRegressor(base_score=0.5, booster='gbtree', colsample_bylevel=1,\n",
       "             colsample_bynode=1, colsample_bytree=1, gamma=0, gpu_id=-1,\n",
       "             importance_type='gain', interaction_constraints='',\n",
       "             learning_rate=0.05, max_delta_step=0, max_depth=20,\n",
       "             min_child_weight=1, missing=nan, monotone_constraints='()',\n",
       "             n_estimators=1000, n_jobs=4, num_parallel_tree=1, random_state=0,\n",
       "             reg_alpha=0, reg_lambda=1, scale_pos_weight=1, subsample=0.3,\n",
       "             tree_method='exact', validate_parameters=1, verbosity=None)"
      ]
     },
     "execution_count": 145,
     "metadata": {},
     "output_type": "execute_result"
    }
   ],
   "source": [
    "xgb_model = XGBRegressor(n_estimators= 1000, max_depth = 20, learning_rate= 0.05, subsample= 0.3)\n",
    "\n",
    "xgb_model.fit(X_train, y_train, eval_metric = 'rmse', eval_set=[(X_test, y_test)], early_stopping_rounds=10, verbose= True)"
   ]
  },
  {
   "cell_type": "code",
   "execution_count": 146,
   "id": "7c59a115",
   "metadata": {},
   "outputs": [
    {
     "data": {
      "text/plain": [
       "0.40671267119480925"
      ]
     },
     "execution_count": 146,
     "metadata": {},
     "output_type": "execute_result"
    }
   ],
   "source": [
    "predictions = xgb_model.predict(X_test)\n",
    "\n",
    "explained_variance_score(y_test, predictions)"
   ]
  },
  {
   "cell_type": "code",
   "execution_count": 147,
   "id": "8a3edad7",
   "metadata": {},
   "outputs": [
    {
     "data": {
      "text/plain": [
       "[<matplotlib.lines.Line2D at 0x7fb04b406d90>]"
      ]
     },
     "execution_count": 147,
     "metadata": {},
     "output_type": "execute_result"
    },
    {
     "data": {
      "image/png": "[encoded data removed]",
      "text/plain": [
       "<Figure size 864x432 with 1 Axes>"
      ]
     },
     "metadata": {
      "needs_background": "light"
     },
     "output_type": "display_data"
    }
   ],
   "source": [
    "plt.figure(figsize = (12,6))\n",
    "plt.scatter(y_test,predictions)\n",
    "plt.plot(y_test, y_test, 'r')"
   ]
  },
  {
   "cell_type": "code",
   "execution_count": 153,
   "id": "2019de99",
   "metadata": {},
   "outputs": [
    {
     "data": {
      "text/plain": [
       "SVR()"
      ]
     },
     "execution_count": 153,
     "metadata": {},
     "output_type": "execute_result"
    }
   ],
   "source": [
    "from sklearn.svm import SVR\n",
    "svr_model = SVR()\n",
    "\n",
    "svr_model.fit(X_train,y_train)"
   ]
  },
  {
   "cell_type": "code",
   "execution_count": 154,
   "id": "e95176ef",
   "metadata": {},
   "outputs": [],
   "source": [
    "predictions = svr_model.predict(X_test)"
   ]
  },
  {
   "cell_type": "code",
   "execution_count": 155,
   "id": "908f30ff",
   "metadata": {},
   "outputs": [
    {
     "data": {
      "text/plain": [
       "0.2881069270648038"
      ]
     },
     "execution_count": 155,
     "metadata": {},
     "output_type": "execute_result"
    }
   ],
   "source": [
    "explained_variance_score(y_test, predictions)"
   ]
  },
  {
   "cell_type": "code",
   "execution_count": null,
   "id": "9c4cc3a4",
   "metadata": {},
   "outputs": [],
   "source": []
  }
 ],
 "metadata": {
  "hide_input": false,
  "kernelspec": {
   "display_name": "Python 3",
   "language": "python",
   "name": "python3"
  },
  "language_info": {
   "codemirror_mode": {
    "name": "ipython",
    "version": 3
   },
   "file_extension": ".py",
   "mimetype": "text/x-python",
   "name": "python",
   "nbconvert_exporter": "python",
   "pygments_lexer": "ipython3",
   "version": "3.8.8"
  }
 },
 "nbformat": 4,
 "nbformat_minor": 5
}
